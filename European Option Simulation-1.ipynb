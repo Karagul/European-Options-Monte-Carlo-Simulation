{
 "cells": [
  {
   "cell_type": "code",
   "execution_count": 6,
   "metadata": {
    "collapsed": true
   },
   "outputs": [],
   "source": [
    "import numpy as np\n",
    "import numpy.random as npr\n",
    "import matplotlib.pyplot as plt\n",
    "%matplotlib inline"
   ]
  },
  {
   "cell_type": "code",
   "execution_count": 7,
   "metadata": {
    "collapsed": true
   },
   "outputs": [],
   "source": [
    "def gen_sn(M, I, anti_paths=True, mo_match=True):\n",
    "    ''' Function to generate random numbers for simulation.\n",
    "    \n",
    "    Parameters\n",
    "    ==========\n",
    "    M : int\n",
    "        number of time intervals for discretization\n",
    "    I : int\n",
    "        number of paths to be simulated\n",
    "    anti_paths: boolean\n",
    "        use of antithetic variates\n",
    "    mo_math : boolean\n",
    "        use of moment matching\n",
    "    '''\n",
    "    if anti_paths is True:\n",
    "        sn = npr.standard_normal((M + 1, I / 2))\n",
    "        sn = np.concatenate((sn, -sn), axis=1)\n",
    "        # 对偶变量缩小电脑内存使用\n",
    "    else:\n",
    "        sn = npr.standard_normal((M + 1, I))\n",
    "    if mo_match is True:\n",
    "        sn = (sn - sn.mean()) / sn.std()\n",
    "        # 保证生成的随机数一定符合正态分布\n",
    "    return sn"
   ]
  },
  {
   "cell_type": "code",
   "execution_count": 8,
   "metadata": {
    "collapsed": true
   },
   "outputs": [],
   "source": [
    "S0 = 100.\n",
    "r = 0.05\n",
    "sigma = 0.25\n",
    "T = 1.0\n",
    "I = 50000\n",
    "\n",
    "\n",
    "M = 50\n",
    "def gbm_mcs_dyna(K, option='call'):\n",
    "    ''' Valuation of European options in Black-Scholes-Merton\n",
    "    by Monte Carlo simulation (of index level paths)\n",
    "    \n",
    "    Parameters\n",
    "    ==========\n",
    "    K : float\n",
    "        (positive) strike price of the option\n",
    "    option : string\n",
    "        type of the option to be valued ('call', 'put')\n",
    "    \n",
    "    Returns\n",
    "    =======\n",
    "    C0 : float\n",
    "        estimated present value of European call option\n",
    "    '''\n",
    "    dt = T / M\n",
    "    # simulation of index level paths\n",
    "    S = np.zeros((M + 1, I))\n",
    "    S[0] = S0\n",
    "    sn = gen_sn(M, I)\n",
    "    for t in range(1, M + 1):\n",
    "        S[t] = S[t - 1] * np.exp((r - 0.5 * sigma ** 2) * dt \n",
    "                + sigma * np.sqrt(dt) * sn[t])\n",
    "    # case-based calculation of payoff\n",
    "    if option == 'call':\n",
    "        hT = np.maximum(S[-1] - K, 0)\n",
    "    else:\n",
    "        hT = np.maximum(K - S[-1], 0)\n",
    "    # calculation of MCS estimator\n",
    "    C0 = np.exp(-r * T) * 1 / I * np.sum(hT)  # payoff回报\n",
    "    return C0"
   ]
  },
  {
   "cell_type": "code",
   "execution_count": 9,
   "metadata": {
    "collapsed": false
   },
   "outputs": [
    {
     "data": {
      "text/plain": [
       "8.0458481208561601"
      ]
     },
     "execution_count": 9,
     "metadata": {},
     "output_type": "execute_result"
    }
   ],
   "source": [
    "gbm_mcs_dyna(K=110., option='call')"
   ]
  },
  {
   "cell_type": "code",
   "execution_count": null,
   "metadata": {
    "collapsed": true
   },
   "outputs": [],
   "source": []
  }
 ],
 "metadata": {
  "anaconda-cloud": {},
  "kernelspec": {
   "display_name": "Python [conda root]",
   "language": "python",
   "name": "conda-root-py"
  },
  "language_info": {
   "codemirror_mode": {
    "name": "ipython",
    "version": 2
   },
   "file_extension": ".py",
   "mimetype": "text/x-python",
   "name": "python",
   "nbconvert_exporter": "python",
   "pygments_lexer": "ipython2",
   "version": "2.7.12"
  }
 },
 "nbformat": 4,
 "nbformat_minor": 1
}
